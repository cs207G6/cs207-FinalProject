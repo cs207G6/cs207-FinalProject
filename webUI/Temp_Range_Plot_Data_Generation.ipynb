{
 "cells": [
  {
   "cell_type": "code",
   "execution_count": 2,
   "metadata": {
    "collapsed": false
   },
   "outputs": [],
   "source": [
    "from chemkin import *\n",
    "import chemkin.parser\n",
    "import chemkin.nasa\n",
    "import matplotlib.pyplot as plt\n",
    "import base64\n",
    "from io import BytesIO"
   ]
  },
  {
   "cell_type": "code",
   "execution_count": null,
   "metadata": {
    "collapsed": true
   },
   "outputs": [],
   "source": [
    "def range_data_collection(user_data,input_concentration,lower_T,upper_T,current_T):\n",
    "    \"\"\"\n",
    "    user_data: Read data from website that user uploaded\n",
    "    input_concentration: The concentrations of species input by users\n",
    "    lower_T: The lower bound of temperature range\n",
    "    upper_T: the upper bound of temperature range\n",
    "    current_T: The temperature of the current reaction\n",
    "    \"\"\"\n",
    "\n",
    "    nasa = chemkin.nasa.NASACoeffs()\n",
    "    reaction_data = user_data\n",
    "    concentration = input_concentration\n",
    "    temp_range = range(lower_T,upper_T)\n",
    "    progress_rates_list = [None]*len(temp_range)\n",
    "    reaction_rates_list = [None]*len(temp_range)\n",
    "    for i,temp in enumerate(range(lower_T,upper_T)):\n",
    "        progress_rates = reaction_data.get_progress_rate(concentration,temp)\n",
    "        progress_rates_list[i] = progress_rate\n",
    "        reaction_rates_list[i] = reaction_data.get_reaction_rate(progress_rates)\n",
    "    return temp_range,progress_rates_list,reaction_rates_list,current_T\n"
   ]
  },
  {
   "cell_type": "code",
   "execution_count": null,
   "metadata": {
    "collapsed": true
   },
   "outputs": [],
   "source": [
    "def progress_rate_plot_generation(T_range,progress_rate_range,current_T):\n",
    "    \"\"\"\n",
    "    T_range: range of temperature indicated by user/as default\n",
    "    progress_rate_range: calculated from range_data_collection function\n",
    "    current_T: The temperature of the current reaction\n",
    "    \"\"\"\n",
    "    x = T_range\n",
    "    y = progress_rate_range\n",
    "    curr_T = current_T\n",
    "    \n",
    "    # generate colors for the scatterplot\n",
    "    currT_index = x.index(curr_T)\n",
    "    colors = ['blue' for i in range(currT_index)]\n",
    "    colors.append('red')\n",
    "    colors.extend(['light blue' for i in range(currT_index+1,len(x)-1)])\n",
    "    \n",
    "    # generate plot\n",
    "    plt.figure()\n",
    "    plt.plot(x, y)\n",
    "    plt.scatter(x,y,c=colors)\n",
    "    plt.xlabel(\"Temperature\")\n",
    "    plt.ylabel(\"Progress Rate\")\n",
    "    plt.title(\"Progress Rate vs Temperature\")\n",
    "    \n",
    "    # output plot in base64 format\n",
    "    figfile = BytesIO()\n",
    "    plt.savefig(figfile, format='png')\n",
    "    figfile.seek(0)  # rewind to beginning of file\n",
    "    figdata_png = base64.b64encode(figfile.getvalue())\n",
    "    return figdata_png"
   ]
  },
  {
   "cell_type": "code",
   "execution_count": null,
   "metadata": {
    "collapsed": true
   },
   "outputs": [],
   "source": [
    "def reaction_rate_plot_generation(T_range,reaction_rate_range,current_T):\n",
    "    \"\"\"\n",
    "    T_range: range of temperature indicated by user/as default\n",
    "    reaction_rate_range: calculated from range_data_collection function\n",
    "    current_T: The temperature of the current reaction\n",
    "    \"\"\"\n",
    "    x = T_range\n",
    "    y = progress_rate_range\n",
    "    curr_T = current_T\n",
    "    \n",
    "    # generate colors for the scatterplot\n",
    "    currT_index = x.index(curr_T)\n",
    "    colors = ['blue' for i in range(currT_index)]\n",
    "    colors.append('red')\n",
    "    colors.extend(['light blue' for i in range(currT_index+1,len(x)-1)])\n",
    "    \n",
    "    # generate plot\n",
    "    plt.figure()\n",
    "    plt.plot(x, y)\n",
    "    plt.scatter(x,y,c=colors)\n",
    "    plt.xlabel(\"Temperature\")\n",
    "    plt.ylabel(\"Progress Rate\")\n",
    "    plt.title(\"Progress Rate vs Temperature\")\n",
    "    \n",
    "    # output plot in base64 format\n",
    "    figfile = BytesIO()\n",
    "    plt.savefig(figfile, format='png')\n",
    "    figfile.seek(0)  # rewind to beginning of file\n",
    "    figdata_png = base64.b64encode(figfile.getvalue())\n",
    "    return figdata_png"
   ]
  }
 ],
 "metadata": {
  "kernelspec": {
   "display_name": "Python 3",
   "language": "python",
   "name": "python3"
  },
  "language_info": {
   "codemirror_mode": {
    "name": "ipython",
    "version": 3
   },
   "file_extension": ".py",
   "mimetype": "text/x-python",
   "name": "python",
   "nbconvert_exporter": "python",
   "pygments_lexer": "ipython3",
   "version": "3.6.0"
  }
 },
 "nbformat": 4,
 "nbformat_minor": 2
}
